{
 "cells": [
  {
   "cell_type": "code",
   "execution_count": 1,
   "id": "62390b3c-d24b-480c-acd2-9e529015c076",
   "metadata": {},
   "outputs": [
    {
     "name": "stdout",
     "output_type": "stream",
     "text": [
      "Defaulting to user installation because normal site-packages is not writeableNote: you may need to restart the kernel to use updated packages.\n",
      "\n",
      "Requirement already satisfied: numpy in c:\\users\\lab4-studentpc22\\appdata\\local\\packages\\pythonsoftwarefoundation.python.3.13_qbz5n2kfra8p0\\localcache\\local-packages\\python313\\site-packages (2.2.2)\n"
     ]
    }
   ],
   "source": [
    "pip install numpy"
   ]
  },
  {
   "cell_type": "code",
   "execution_count": 2,
   "id": "dc08b2f7-02d1-41f5-8cb0-7c2250fb27ff",
   "metadata": {},
   "outputs": [
    {
     "name": "stdout",
     "output_type": "stream",
     "text": [
      "Defaulting to user installation because normal site-packages is not writeable\n",
      "Requirement already satisfied: panda in c:\\users\\lab4-studentpc22\\appdata\\local\\packages\\pythonsoftwarefoundation.python.3.13_qbz5n2kfra8p0\\localcache\\local-packages\\python313\\site-packages (0.3.1)\n",
      "Requirement already satisfied: setuptools in c:\\users\\lab4-studentpc22\\appdata\\local\\packages\\pythonsoftwarefoundation.python.3.13_qbz5n2kfra8p0\\localcache\\local-packages\\python313\\site-packages (from panda) (75.8.0)\n",
      "Requirement already satisfied: requests in c:\\users\\lab4-studentpc22\\appdata\\local\\packages\\pythonsoftwarefoundation.python.3.13_qbz5n2kfra8p0\\localcache\\local-packages\\python313\\site-packages (from panda) (2.32.3)\n",
      "Requirement already satisfied: charset-normalizer<4,>=2 in c:\\users\\lab4-studentpc22\\appdata\\local\\packages\\pythonsoftwarefoundation.python.3.13_qbz5n2kfra8p0\\localcache\\local-packages\\python313\\site-packages (from requests->panda) (3.4.1)\n",
      "Requirement already satisfied: idna<4,>=2.5 in c:\\users\\lab4-studentpc22\\appdata\\local\\packages\\pythonsoftwarefoundation.python.3.13_qbz5n2kfra8p0\\localcache\\local-packages\\python313\\site-packages (from requests->panda) (3.10)\n",
      "Requirement already satisfied: urllib3<3,>=1.21.1 in c:\\users\\lab4-studentpc22\\appdata\\local\\packages\\pythonsoftwarefoundation.python.3.13_qbz5n2kfra8p0\\localcache\\local-packages\\python313\\site-packages (from requests->panda) (2.3.0)\n",
      "Requirement already satisfied: certifi>=2017.4.17 in c:\\users\\lab4-studentpc22\\appdata\\local\\packages\\pythonsoftwarefoundation.python.3.13_qbz5n2kfra8p0\\localcache\\local-packages\\python313\\site-packages (from requests->panda) (2024.12.14)\n",
      "Note: you may need to restart the kernel to use updated packages.\n"
     ]
    }
   ],
   "source": [
    "pip install panda"
   ]
  },
  {
   "cell_type": "code",
   "execution_count": 3,
   "id": "04a65d47-3bc7-4379-be10-dec243b81e05",
   "metadata": {},
   "outputs": [
    {
     "name": "stdout",
     "output_type": "stream",
     "text": [
      "Defaulting to user installation because normal site-packages is not writeable\n",
      "Requirement already satisfied: matplotlib in c:\\users\\lab4-studentpc22\\appdata\\local\\packages\\pythonsoftwarefoundation.python.3.13_qbz5n2kfra8p0\\localcache\\local-packages\\python313\\site-packages (3.10.0)\n",
      "Requirement already satisfied: contourpy>=1.0.1 in c:\\users\\lab4-studentpc22\\appdata\\local\\packages\\pythonsoftwarefoundation.python.3.13_qbz5n2kfra8p0\\localcache\\local-packages\\python313\\site-packages (from matplotlib) (1.3.1)\n",
      "Requirement already satisfied: cycler>=0.10 in c:\\users\\lab4-studentpc22\\appdata\\local\\packages\\pythonsoftwarefoundation.python.3.13_qbz5n2kfra8p0\\localcache\\local-packages\\python313\\site-packages (from matplotlib) (0.12.1)\n",
      "Requirement already satisfied: fonttools>=4.22.0 in c:\\users\\lab4-studentpc22\\appdata\\local\\packages\\pythonsoftwarefoundation.python.3.13_qbz5n2kfra8p0\\localcache\\local-packages\\python313\\site-packages (from matplotlib) (4.55.3)\n",
      "Requirement already satisfied: kiwisolver>=1.3.1 in c:\\users\\lab4-studentpc22\\appdata\\local\\packages\\pythonsoftwarefoundation.python.3.13_qbz5n2kfra8p0\\localcache\\local-packages\\python313\\site-packages (from matplotlib) (1.4.8)\n",
      "Requirement already satisfied: numpy>=1.23 in c:\\users\\lab4-studentpc22\\appdata\\local\\packages\\pythonsoftwarefoundation.python.3.13_qbz5n2kfra8p0\\localcache\\local-packages\\python313\\site-packages (from matplotlib) (2.2.2)\n",
      "Requirement already satisfied: packaging>=20.0 in c:\\users\\lab4-studentpc22\\appdata\\local\\packages\\pythonsoftwarefoundation.python.3.13_qbz5n2kfra8p0\\localcache\\local-packages\\python313\\site-packages (from matplotlib) (24.2)\n",
      "Requirement already satisfied: pillow>=8 in c:\\users\\lab4-studentpc22\\appdata\\local\\packages\\pythonsoftwarefoundation.python.3.13_qbz5n2kfra8p0\\localcache\\local-packages\\python313\\site-packages (from matplotlib) (11.1.0)\n",
      "Requirement already satisfied: pyparsing>=2.3.1 in c:\\users\\lab4-studentpc22\\appdata\\local\\packages\\pythonsoftwarefoundation.python.3.13_qbz5n2kfra8p0\\localcache\\local-packages\\python313\\site-packages (from matplotlib) (3.2.1)\n",
      "Requirement already satisfied: python-dateutil>=2.7 in c:\\users\\lab4-studentpc22\\appdata\\local\\packages\\pythonsoftwarefoundation.python.3.13_qbz5n2kfra8p0\\localcache\\local-packages\\python313\\site-packages (from matplotlib) (2.9.0.post0)\n",
      "Requirement already satisfied: six>=1.5 in c:\\users\\lab4-studentpc22\\appdata\\local\\packages\\pythonsoftwarefoundation.python.3.13_qbz5n2kfra8p0\\localcache\\local-packages\\python313\\site-packages (from python-dateutil>=2.7->matplotlib) (1.17.0)\n",
      "Note: you may need to restart the kernel to use updated packages.\n"
     ]
    }
   ],
   "source": [
    "pip install matplotlib"
   ]
  },
  {
   "cell_type": "code",
   "execution_count": 4,
   "id": "734e2e8b-598e-4ade-975e-c1037cd32230",
   "metadata": {},
   "outputs": [
    {
     "name": "stdout",
     "output_type": "stream",
     "text": [
      "Defaulting to user installation because normal site-packages is not writeable\n",
      "Requirement already satisfied: seaborn in c:\\users\\lab4-studentpc22\\appdata\\local\\packages\\pythonsoftwarefoundation.python.3.13_qbz5n2kfra8p0\\localcache\\local-packages\\python313\\site-packages (0.13.2)\n",
      "Requirement already satisfied: numpy!=1.24.0,>=1.20 in c:\\users\\lab4-studentpc22\\appdata\\local\\packages\\pythonsoftwarefoundation.python.3.13_qbz5n2kfra8p0\\localcache\\local-packages\\python313\\site-packages (from seaborn) (2.2.2)\n",
      "Requirement already satisfied: pandas>=1.2 in c:\\users\\lab4-studentpc22\\appdata\\local\\packages\\pythonsoftwarefoundation.python.3.13_qbz5n2kfra8p0\\localcache\\local-packages\\python313\\site-packages (from seaborn) (2.2.3)\n",
      "Requirement already satisfied: matplotlib!=3.6.1,>=3.4 in c:\\users\\lab4-studentpc22\\appdata\\local\\packages\\pythonsoftwarefoundation.python.3.13_qbz5n2kfra8p0\\localcache\\local-packages\\python313\\site-packages (from seaborn) (3.10.0)\n",
      "Requirement already satisfied: contourpy>=1.0.1 in c:\\users\\lab4-studentpc22\\appdata\\local\\packages\\pythonsoftwarefoundation.python.3.13_qbz5n2kfra8p0\\localcache\\local-packages\\python313\\site-packages (from matplotlib!=3.6.1,>=3.4->seaborn) (1.3.1)\n",
      "Requirement already satisfied: cycler>=0.10 in c:\\users\\lab4-studentpc22\\appdata\\local\\packages\\pythonsoftwarefoundation.python.3.13_qbz5n2kfra8p0\\localcache\\local-packages\\python313\\site-packages (from matplotlib!=3.6.1,>=3.4->seaborn) (0.12.1)\n",
      "Requirement already satisfied: fonttools>=4.22.0 in c:\\users\\lab4-studentpc22\\appdata\\local\\packages\\pythonsoftwarefoundation.python.3.13_qbz5n2kfra8p0\\localcache\\local-packages\\python313\\site-packages (from matplotlib!=3.6.1,>=3.4->seaborn) (4.55.3)\n",
      "Requirement already satisfied: kiwisolver>=1.3.1 in c:\\users\\lab4-studentpc22\\appdata\\local\\packages\\pythonsoftwarefoundation.python.3.13_qbz5n2kfra8p0\\localcache\\local-packages\\python313\\site-packages (from matplotlib!=3.6.1,>=3.4->seaborn) (1.4.8)\n",
      "Requirement already satisfied: packaging>=20.0 in c:\\users\\lab4-studentpc22\\appdata\\local\\packages\\pythonsoftwarefoundation.python.3.13_qbz5n2kfra8p0\\localcache\\local-packages\\python313\\site-packages (from matplotlib!=3.6.1,>=3.4->seaborn) (24.2)\n",
      "Requirement already satisfied: pillow>=8 in c:\\users\\lab4-studentpc22\\appdata\\local\\packages\\pythonsoftwarefoundation.python.3.13_qbz5n2kfra8p0\\localcache\\local-packages\\python313\\site-packages (from matplotlib!=3.6.1,>=3.4->seaborn) (11.1.0)\n",
      "Requirement already satisfied: pyparsing>=2.3.1 in c:\\users\\lab4-studentpc22\\appdata\\local\\packages\\pythonsoftwarefoundation.python.3.13_qbz5n2kfra8p0\\localcache\\local-packages\\python313\\site-packages (from matplotlib!=3.6.1,>=3.4->seaborn) (3.2.1)\n",
      "Requirement already satisfied: python-dateutil>=2.7 in c:\\users\\lab4-studentpc22\\appdata\\local\\packages\\pythonsoftwarefoundation.python.3.13_qbz5n2kfra8p0\\localcache\\local-packages\\python313\\site-packages (from matplotlib!=3.6.1,>=3.4->seaborn) (2.9.0.post0)\n",
      "Requirement already satisfied: pytz>=2020.1 in c:\\users\\lab4-studentpc22\\appdata\\local\\packages\\pythonsoftwarefoundation.python.3.13_qbz5n2kfra8p0\\localcache\\local-packages\\python313\\site-packages (from pandas>=1.2->seaborn) (2024.2)\n",
      "Requirement already satisfied: tzdata>=2022.7 in c:\\users\\lab4-studentpc22\\appdata\\local\\packages\\pythonsoftwarefoundation.python.3.13_qbz5n2kfra8p0\\localcache\\local-packages\\python313\\site-packages (from pandas>=1.2->seaborn) (2024.2)\n",
      "Requirement already satisfied: six>=1.5 in c:\\users\\lab4-studentpc22\\appdata\\local\\packages\\pythonsoftwarefoundation.python.3.13_qbz5n2kfra8p0\\localcache\\local-packages\\python313\\site-packages (from python-dateutil>=2.7->matplotlib!=3.6.1,>=3.4->seaborn) (1.17.0)\n",
      "Note: you may need to restart the kernel to use updated packages.\n"
     ]
    }
   ],
   "source": [
    "pip install seaborn"
   ]
  },
  {
   "cell_type": "code",
   "execution_count": 5,
   "id": "7b92ed1b-e2c3-4948-bc69-ba9885762f58",
   "metadata": {},
   "outputs": [
    {
     "name": "stdout",
     "output_type": "stream",
     "text": [
      "Defaulting to user installation because normal site-packages is not writeable\n",
      "Requirement already satisfied: scipy in c:\\users\\lab4-studentpc22\\appdata\\local\\packages\\pythonsoftwarefoundation.python.3.13_qbz5n2kfra8p0\\localcache\\local-packages\\python313\\site-packages (1.15.2)\n",
      "Requirement already satisfied: numpy<2.5,>=1.23.5 in c:\\users\\lab4-studentpc22\\appdata\\local\\packages\\pythonsoftwarefoundation.python.3.13_qbz5n2kfra8p0\\localcache\\local-packages\\python313\\site-packages (from scipy) (2.2.2)\n",
      "Note: you may need to restart the kernel to use updated packages.\n"
     ]
    }
   ],
   "source": [
    "pip install scipy"
   ]
  },
  {
   "cell_type": "code",
   "execution_count": 6,
   "id": "5936f90c-556c-4a06-aec2-631eadaf08e0",
   "metadata": {},
   "outputs": [],
   "source": [
    "import numpy as np\n",
    "import pandas as pd\n",
    "import matplotlib.pyplot as plt\n",
    "import seaborn as sns\n",
    "from scipy.stats import f_oneway\n",
    "import warnings\n",
    "warnings.filterwarnings('ignore')"
   ]
  },
  {
   "cell_type": "code",
   "execution_count": 7,
   "id": "34681779-b606-443e-9edb-389df2755cb9",
   "metadata": {},
   "outputs": [],
   "source": [
    "accident = pd.read_csv('Datasets\\\\accident_data.csv')"
   ]
  },
  {
   "cell_type": "markdown",
   "id": "bcabaac1-35f4-4c13-b862-67ce040057ca",
   "metadata": {},
   "source": [
    "<h1>CONVERTING OBJECTS INTO CATEGORY</h1>"
   ]
  },
  {
   "cell_type": "markdown",
   "id": "9914a019-1925-492e-9734-de68c654490e",
   "metadata": {},
   "source": [
    "<h1>Converting Date Field into Data Time data type</h1>"
   ]
  },
  {
   "cell_type": "code",
   "execution_count": 8,
   "id": "3886c7db-dfb1-47bd-ab05-2e11dcac777e",
   "metadata": {},
   "outputs": [
    {
     "data": {
      "text/plain": [
       "Index                      0\n",
       "Accident_Severity          0\n",
       "Accident Date              0\n",
       "Latitude                   0\n",
       "Light_Conditions           0\n",
       "District Area              0\n",
       "Longitude                  0\n",
       "Number_of_Casualties       0\n",
       "Number_of_Vehicles         0\n",
       "Road_Surface_Conditions    0\n",
       "Road_Type                  0\n",
       "Urban_or_Rural_Area        0\n",
       "Weather_Conditions         0\n",
       "Vehicle_Type               0\n",
       "dtype: int64"
      ]
     },
     "execution_count": 8,
     "metadata": {},
     "output_type": "execute_result"
    }
   ],
   "source": [
    "accident['Latitude'] = accident['Latitude'].fillna(accident['Latitude'].mean())\n",
    "accident['Longitude'] = accident['Longitude'].fillna(accident['Longitude'].mean())\n",
    "accident['Road_Surface_Conditions'] = accident['Road_Surface_Conditions'].fillna('unknown road condition')\n",
    "accident['Road_Type'] = accident['Road_Type'].fillna('unaccounted')\n",
    "accident['Weather_Conditions'] = accident['Weather_Conditions'].fillna('unaccounted')\n",
    "accident['Urban_or_Rural_Area'] = accident['Urban_or_Rural_Area'].fillna(accident['Urban_or_Rural_Area'].mode()[0])\n",
    "accident.isnull().sum()"
   ]
  },
  {
   "cell_type": "code",
   "execution_count": 9,
   "id": "4b653e70-4334-45fa-9bb0-9ebf12df7906",
   "metadata": {},
   "outputs": [
    {
     "data": {
      "text/plain": [
       "Index                        object\n",
       "Accident_Severity          category\n",
       "Accident Date                object\n",
       "Latitude                    float64\n",
       "Light_Conditions           category\n",
       "District Area              category\n",
       "Longitude                   float64\n",
       "Number_of_Casualties          int64\n",
       "Number_of_Vehicles            int64\n",
       "Road_Surface_Conditions    category\n",
       "Road_Type                  category\n",
       "Urban_or_Rural_Area        category\n",
       "Weather_Conditions         category\n",
       "Vehicle_Type               category\n",
       "dtype: object"
      ]
     },
     "execution_count": 9,
     "metadata": {},
     "output_type": "execute_result"
    }
   ],
   "source": [
    "accident['Accident_Severity'] = accident['Accident_Severity'].astype('category')\n",
    "accident['Light_Conditions'] = accident['Light_Conditions'].astype('category')\n",
    "accident['District Area'] = accident['District Area'].astype('category')\n",
    "accident['Road_Surface_Conditions'] = accident['Road_Surface_Conditions'].astype('category')\n",
    "accident['Road_Type'] = accident['Road_Type'].astype('category')\n",
    "accident['Urban_or_Rural_Area'] = accident['Urban_or_Rural_Area'].astype('category')\n",
    "accident['Weather_Conditions'] = accident['Weather_Conditions'].astype('category')\n",
    "accident['Vehicle_Type'] = accident['Vehicle_Type'].astype('category')\n",
    "accident.dtypes"
   ]
  },
  {
   "cell_type": "markdown",
   "id": "c0b090ac-d63c-4a9b-9224-0dcc72215237",
   "metadata": {},
   "source": [
    "<h1>Converting Date Time to Time Date</h1>"
   ]
  },
  {
   "cell_type": "code",
   "execution_count": 10,
   "id": "5b862860-ad48-48c8-8e4e-2a586d953b1b",
   "metadata": {},
   "outputs": [],
   "source": [
    "#remove spaces 20 / 02/ 2025\n",
    "accident['Accident Date'] = accident['Accident Date'].str.strip()\n",
    "#replace / wit -\n",
    "accident['Accident Date'] = accident['Accident Date'].str.replace('/','-')"
   ]
  },
  {
   "cell_type": "code",
   "execution_count": 11,
   "id": "7efe3558-9eda-46bc-9937-9ee25e61c7b3",
   "metadata": {},
   "outputs": [
    {
     "name": "stdout",
     "output_type": "stream",
     "text": [
      "<class 'pandas.core.series.Series'>\n"
     ]
    }
   ],
   "source": [
    "print(type(accident['Accident Date']))"
   ]
  },
  {
   "cell_type": "markdown",
   "id": "ba89f88b-5f41-4c76-bc1b-153cb944a563",
   "metadata": {},
   "source": [
    "<h1>UniVariate</h1>"
   ]
  },
  {
   "cell_type": "code",
   "execution_count": 12,
   "id": "49cca85f-b3a9-4ad5-bc1d-71acd074a419",
   "metadata": {},
   "outputs": [],
   "source": [
    "accident['Accident Date'] = pd.to_datetime(accident['Accident Date'], dayfirst = True, errors= 'coerce')"
   ]
  },
  {
   "cell_type": "code",
   "execution_count": 13,
   "id": "1c4f4e1f-5c10-490a-a06c-a7d76b98931c",
   "metadata": {},
   "outputs": [],
   "source": [
    "#extracting year data only\n",
    "accident['Year'] = accident['Accident Date'].dt.year\n",
    "#extracting month data only\n",
    "accident['Month'] = accident['Accident Date'].dt.month\n",
    "#extracting day data only\n",
    "accident['Day'] = accident['Accident Date'].dt.day\n",
    "#extracting day of week data only\n",
    "accident['DayofWeek'] = accident['Accident Date'].dt.dayofweek"
   ]
  },
  {
   "cell_type": "code",
   "execution_count": 14,
   "id": "850787d0-ecbe-44c1-b95e-381adf21a2e4",
   "metadata": {},
   "outputs": [
    {
     "name": "stdout",
     "output_type": "stream",
     "text": [
      "Defaulting to user installation because normal site-packages is not writeable\n",
      "Requirement already satisfied: scipy in c:\\users\\lab4-studentpc22\\appdata\\local\\packages\\pythonsoftwarefoundation.python.3.13_qbz5n2kfra8p0\\localcache\\local-packages\\python313\\site-packages (1.15.2)\n",
      "Requirement already satisfied: numpy<2.5,>=1.23.5 in c:\\users\\lab4-studentpc22\\appdata\\local\\packages\\pythonsoftwarefoundation.python.3.13_qbz5n2kfra8p0\\localcache\\local-packages\\python313\\site-packages (from scipy) (2.2.2)\n",
      "Note: you may need to restart the kernel to use updated packages.\n"
     ]
    }
   ],
   "source": [
    "pip install scipy"
   ]
  },
  {
   "cell_type": "code",
   "execution_count": 15,
   "id": "f3560ab7-ba15-431c-97ca-d8b9af9c5b5b",
   "metadata": {},
   "outputs": [],
   "source": [
    "from scipy.stats import f_oneway"
   ]
  },
  {
   "cell_type": "code",
   "execution_count": 16,
   "id": "fc35fb8e-a036-453b-8cfd-d9f945b4f62e",
   "metadata": {},
   "outputs": [
    {
     "data": {
      "text/plain": [
       "Index                      0\n",
       "Accident_Severity          0\n",
       "Accident Date              0\n",
       "Latitude                   0\n",
       "Light_Conditions           0\n",
       "District Area              0\n",
       "Longitude                  0\n",
       "Number_of_Casualties       0\n",
       "Number_of_Vehicles         0\n",
       "Road_Surface_Conditions    0\n",
       "Road_Type                  0\n",
       "Urban_or_Rural_Area        0\n",
       "Weather_Conditions         0\n",
       "Vehicle_Type               0\n",
       "Year                       0\n",
       "Month                      0\n",
       "Day                        0\n",
       "DayofWeek                  0\n",
       "dtype: int64"
      ]
     },
     "execution_count": 16,
     "metadata": {},
     "output_type": "execute_result"
    }
   ],
   "source": [
    "accident.isnull().sum()"
   ]
  },
  {
   "cell_type": "markdown",
   "id": "7d75becb-ebe5-44e2-921f-c1d12f119a97",
   "metadata": {},
   "source": [
    "<h1>DATA INSIGHTS</h1>"
   ]
  },
  {
   "cell_type": "markdown",
   "id": "0a073189-cdd0-445f-b304-25c2c0ab2e6f",
   "metadata": {},
   "source": [
    "<h1>/ Insight No. 1</h1>\n",
    "<h2>In 2019, cars recorded the highest number of accidents, accounting for 71% of all incidents that year.</h2>"
   ]
  },
  {
   "cell_type": "code",
   "execution_count": 17,
   "id": "5c42dfaf-dbba-47d4-b748-a86d75b001bb",
   "metadata": {},
   "outputs": [
    {
     "data": {
      "text/plain": [
       "Year\n",
       "2019    182115\n",
       "2020    170591\n",
       "2021    163554\n",
       "2022    144419\n",
       "Name: count, dtype: int64"
      ]
     },
     "execution_count": 17,
     "metadata": {},
     "output_type": "execute_result"
    }
   ],
   "source": [
    "accident['Year'].value_counts()"
   ]
  },
  {
   "cell_type": "code",
   "execution_count": 18,
   "id": "a7c45401-759b-40d6-91ab-e6ed8e9ed51b",
   "metadata": {},
   "outputs": [],
   "source": [
    "No_1 = accident[accident['Year'] == 2019]['Vehicle_Type'].value_counts()"
   ]
  },
  {
   "cell_type": "code",
   "execution_count": 19,
   "id": "f06246ee-7db4-48c8-a4d2-2bd6de850006",
   "metadata": {},
   "outputs": [
    {
     "data": {
      "text/plain": [
       "Vehicle_Type\n",
       "Car                                      130304\n",
       "Bus or coach (17 or more pass seats)      10483\n",
       "Van / Goods 3.5 tonnes mgw or under        9303\n",
       "Motorcycle over 500cc                      7686\n",
       "Goods 7.5 tonnes mgw and over              6247\n",
       "Motorcycle 125cc and under                 4313\n",
       "Taxi/Private hire car                      4230\n",
       "Motorcycle over 125cc and up to 500cc      2446\n",
       "Motorcycle 50cc and under                  2136\n",
       "Goods over 3.5t. and under 7.5t            2049\n",
       "Other vehicle                              1588\n",
       "Agricultural vehicle                        636\n",
       "Minibus (8 - 16 passenger seats)            625\n",
       "Pedal cycle                                  68\n",
       "Ridden horse                                  1\n",
       "Data missing or out of range                  0\n",
       "Name: count, dtype: int64"
      ]
     },
     "execution_count": 19,
     "metadata": {},
     "output_type": "execute_result"
    }
   ],
   "source": [
    "No_1"
   ]
  },
  {
   "cell_type": "markdown",
   "id": "6b79c7bf-e69f-4917-8313-7759dd9736b0",
   "metadata": {},
   "source": [
    "<h1>/ Insight No. 2</h1>\n",
    "<h2>In 2019, 81% of accidents occurred under the weather condition \"Fine, no high winds.\"</h2>"
   ]
  },
  {
   "cell_type": "code",
   "execution_count": 20,
   "id": "db88071b-ed7d-4928-bd9b-22f6f4f7c409",
   "metadata": {},
   "outputs": [
    {
     "data": {
      "text/plain": [
       "Year\n",
       "2019    182115\n",
       "2020    170591\n",
       "2021    163554\n",
       "2022    144419\n",
       "Name: count, dtype: int64"
      ]
     },
     "execution_count": 20,
     "metadata": {},
     "output_type": "execute_result"
    }
   ],
   "source": [
    "accident['Year'].value_counts()"
   ]
  },
  {
   "cell_type": "code",
   "execution_count": 21,
   "id": "57478b9f-bcec-48ab-adeb-ea5576787745",
   "metadata": {},
   "outputs": [],
   "source": [
    "No_2 = accident[accident['Year'] == 2019]['Weather_Conditions'].value_counts()"
   ]
  },
  {
   "cell_type": "code",
   "execution_count": 22,
   "id": "c1a74715-bcdc-4bf1-bb80-00f8ca052567",
   "metadata": {},
   "outputs": [
    {
     "data": {
      "text/plain": [
       "Weather_Conditions\n",
       "Fine no high winds       143876\n",
       "Raining no high winds     22835\n",
       "unaccounted                4134\n",
       "Other                      4083\n",
       "Raining + high winds       2959\n",
       "Fine + high winds          2545\n",
       "Fog or mist                 857\n",
       "Snowing no high winds       680\n",
       "Snowing + high winds        146\n",
       "Name: count, dtype: int64"
      ]
     },
     "execution_count": 22,
     "metadata": {},
     "output_type": "execute_result"
    }
   ],
   "source": [
    "No_2"
   ]
  },
  {
   "cell_type": "markdown",
   "id": "d82149e6-a630-4416-bb27-35a0cd21c231",
   "metadata": {},
   "source": [
    "<h1>/ Insight No. 3</h1>\n",
    "<h2>The vehicle type with the lowest number of accidents across all severity levels is ridden horses, \n",
    "with only 4 slight accidents and 0 fatal or serious accidents.</h2>"
   ]
  },
  {
   "cell_type": "code",
   "execution_count": 23,
   "id": "07a4d6fc-ef2b-4a94-bc79-4bcfbef699b3",
   "metadata": {},
   "outputs": [
    {
     "data": {
      "text/html": [
       "<div>\n",
       "<style scoped>\n",
       "    .dataframe tbody tr th:only-of-type {\n",
       "        vertical-align: middle;\n",
       "    }\n",
       "\n",
       "    .dataframe tbody tr th {\n",
       "        vertical-align: top;\n",
       "    }\n",
       "\n",
       "    .dataframe thead th {\n",
       "        text-align: right;\n",
       "    }\n",
       "</style>\n",
       "<table border=\"1\" class=\"dataframe\">\n",
       "  <thead>\n",
       "    <tr style=\"text-align: right;\">\n",
       "      <th></th>\n",
       "      <th>Month</th>\n",
       "      <th>count</th>\n",
       "    </tr>\n",
       "  </thead>\n",
       "  <tbody>\n",
       "    <tr>\n",
       "      <th>0</th>\n",
       "      <td>11</td>\n",
       "      <td>60424</td>\n",
       "    </tr>\n",
       "    <tr>\n",
       "      <th>1</th>\n",
       "      <td>10</td>\n",
       "      <td>59580</td>\n",
       "    </tr>\n",
       "    <tr>\n",
       "      <th>2</th>\n",
       "      <td>7</td>\n",
       "      <td>57445</td>\n",
       "    </tr>\n",
       "    <tr>\n",
       "      <th>3</th>\n",
       "      <td>6</td>\n",
       "      <td>56481</td>\n",
       "    </tr>\n",
       "    <tr>\n",
       "      <th>4</th>\n",
       "      <td>9</td>\n",
       "      <td>56455</td>\n",
       "    </tr>\n",
       "    <tr>\n",
       "      <th>5</th>\n",
       "      <td>5</td>\n",
       "      <td>56352</td>\n",
       "    </tr>\n",
       "    <tr>\n",
       "      <th>6</th>\n",
       "      <td>3</td>\n",
       "      <td>54086</td>\n",
       "    </tr>\n",
       "    <tr>\n",
       "      <th>7</th>\n",
       "      <td>8</td>\n",
       "      <td>53913</td>\n",
       "    </tr>\n",
       "    <tr>\n",
       "      <th>8</th>\n",
       "      <td>1</td>\n",
       "      <td>52872</td>\n",
       "    </tr>\n",
       "    <tr>\n",
       "      <th>9</th>\n",
       "      <td>12</td>\n",
       "      <td>51836</td>\n",
       "    </tr>\n",
       "    <tr>\n",
       "      <th>10</th>\n",
       "      <td>4</td>\n",
       "      <td>51744</td>\n",
       "    </tr>\n",
       "    <tr>\n",
       "      <th>11</th>\n",
       "      <td>2</td>\n",
       "      <td>49491</td>\n",
       "    </tr>\n",
       "  </tbody>\n",
       "</table>\n",
       "</div>"
      ],
      "text/plain": [
       "    Month  count\n",
       "0      11  60424\n",
       "1      10  59580\n",
       "2       7  57445\n",
       "3       6  56481\n",
       "4       9  56455\n",
       "5       5  56352\n",
       "6       3  54086\n",
       "7       8  53913\n",
       "8       1  52872\n",
       "9      12  51836\n",
       "10      4  51744\n",
       "11      2  49491"
      ]
     },
     "execution_count": 23,
     "metadata": {},
     "output_type": "execute_result"
    }
   ],
   "source": [
    "accident['Month'].value_counts().reset_index()"
   ]
  },
  {
   "cell_type": "code",
   "execution_count": 24,
   "id": "c6ac660e-d639-4db7-a07c-f66f9e8b6b99",
   "metadata": {},
   "outputs": [],
   "source": [
    "no_3 = accident.groupby(['Accident_Severity', 'Vehicle_Type']).size()"
   ]
  },
  {
   "cell_type": "code",
   "execution_count": 25,
   "id": "1cdecd9d-2421-4a70-8866-432b10111e12",
   "metadata": {},
   "outputs": [
    {
     "data": {
      "text/plain": [
       "Accident_Severity  Vehicle_Type                         \n",
       "Fatal              Agricultural vehicle                         21\n",
       "                   Bus or coach (17 or more pass seats)        325\n",
       "                   Car                                        6577\n",
       "                   Data missing or out of range                  0\n",
       "                   Goods 7.5 tonnes mgw and over               216\n",
       "                   Goods over 3.5t. and under 7.5t              67\n",
       "                   Minibus (8 - 16 passenger seats)             29\n",
       "                   Motorcycle 125cc and under                  189\n",
       "                   Motorcycle 50cc and under                    95\n",
       "                   Motorcycle over 125cc and up to 500cc       105\n",
       "                   Motorcycle over 500cc                       339\n",
       "                   Other vehicle                                70\n",
       "                   Pedal cycle                                   6\n",
       "                   Ridden horse                                  0\n",
       "                   Taxi/Private hire car                       155\n",
       "                   Van / Goods 3.5 tonnes mgw or under         467\n",
       "Serious            Agricultural vehicle                        282\n",
       "                   Bus or coach (17 or more pass seats)       3373\n",
       "                   Car                                       66461\n",
       "                   Data missing or out of range                  0\n",
       "                   Goods 7.5 tonnes mgw and over              2321\n",
       "                   Goods over 3.5t. and under 7.5t             857\n",
       "                   Minibus (8 - 16 passenger seats)            276\n",
       "                   Motorcycle 125cc and under                 2031\n",
       "                   Motorcycle 50cc and under                  1014\n",
       "                   Motorcycle over 125cc and up to 500cc      1014\n",
       "                   Motorcycle over 500cc                      3457\n",
       "                   Other vehicle                               767\n",
       "                   Pedal cycle                                  39\n",
       "                   Ridden horse                                  0\n",
       "                   Taxi/Private hire car                      1771\n",
       "                   Van / Goods 3.5 tonnes mgw or under        4554\n",
       "Slight             Agricultural vehicle                       1644\n",
       "                   Bus or coach (17 or more pass seats)      22180\n",
       "                   Car                                      424954\n",
       "                   Data missing or out of range                  6\n",
       "                   Goods 7.5 tonnes mgw and over             14770\n",
       "                   Goods over 3.5t. and under 7.5t            5172\n",
       "                   Minibus (8 - 16 passenger seats)           1671\n",
       "                   Motorcycle 125cc and under                13049\n",
       "                   Motorcycle 50cc and under                  6494\n",
       "                   Motorcycle over 125cc and up to 500cc      6537\n",
       "                   Motorcycle over 500cc                     21861\n",
       "                   Other vehicle                              4800\n",
       "                   Pedal cycle                                 152\n",
       "                   Ridden horse                                  4\n",
       "                   Taxi/Private hire car                     11368\n",
       "                   Van / Goods 3.5 tonnes mgw or under       29139\n",
       "dtype: int64"
      ]
     },
     "execution_count": 25,
     "metadata": {},
     "output_type": "execute_result"
    }
   ],
   "source": [
    "no_3"
   ]
  },
  {
   "cell_type": "markdown",
   "id": "ff8a062f-0f35-450a-a0c8-66412cc4165e",
   "metadata": {},
   "source": [
    "<h1>/ Insight No. 4</h1>\n",
    "<h2>In 2020, accident severity records showed that 85% of incidents were classified as slight accidents, making them the most common type.</h2>"
   ]
  },
  {
   "cell_type": "code",
   "execution_count": 26,
   "id": "1de2a767-9171-4611-9407-8d3cf8b87281",
   "metadata": {},
   "outputs": [
    {
     "data": {
      "text/plain": [
       "Year\n",
       "2019    182115\n",
       "2020    170591\n",
       "2021    163554\n",
       "2022    144419\n",
       "Name: count, dtype: int64"
      ]
     },
     "execution_count": 26,
     "metadata": {},
     "output_type": "execute_result"
    }
   ],
   "source": [
    "accident['Year'].value_counts()"
   ]
  },
  {
   "cell_type": "code",
   "execution_count": 27,
   "id": "5bc18501-39bd-46d4-b42a-2107f8587eaf",
   "metadata": {},
   "outputs": [],
   "source": [
    "no_4 = accident[accident['Year'] == 2020]"
   ]
  },
  {
   "cell_type": "code",
   "execution_count": 28,
   "id": "d2623a36-8206-4cb8-bbfb-2f8635c9c79b",
   "metadata": {},
   "outputs": [
    {
     "data": {
      "text/plain": [
       "Accident_Severity\n",
       "Slight     145129\n",
       "Serious     23121\n",
       "Fatal        2341\n",
       "Name: count, dtype: int64"
      ]
     },
     "execution_count": 28,
     "metadata": {},
     "output_type": "execute_result"
    }
   ],
   "source": [
    "no_4['Accident_Severity'].value_counts()"
   ]
  },
  {
   "cell_type": "markdown",
   "id": "52e21f58-7cff-4c6d-a1c8-7f5325a40748",
   "metadata": {},
   "source": [
    "<h1>Insight No. 5</h1>\n",
    "<h2>The road condition during accidents was most severe in fatal cases, while the lowest number of incidents occurred during the snow season.</h2>"
   ]
  },
  {
   "cell_type": "code",
   "execution_count": 29,
   "id": "00d3141e-9a2d-4747-820b-2ebfececd7ae",
   "metadata": {},
   "outputs": [],
   "source": [
    "no_5 = accident[accident['Accident_Severity'] == 'Fatal'] ['Road_Surface_Conditions'].value_counts()"
   ]
  },
  {
   "cell_type": "code",
   "execution_count": 30,
   "id": "80bb54ee-3275-44a1-9386-6bfe79875692",
   "metadata": {},
   "outputs": [
    {
     "data": {
      "text/plain": [
       "Road_Surface_Conditions\n",
       "Dry                       5788\n",
       "Wet or damp               2620\n",
       "Frost or ice               193\n",
       "Snow                        35\n",
       "Flood over 3cm. deep        23\n",
       "unknown road condition       2\n",
       "Name: count, dtype: int64"
      ]
     },
     "execution_count": 30,
     "metadata": {},
     "output_type": "execute_result"
    }
   ],
   "source": [
    "no_5"
   ]
  },
  {
   "cell_type": "markdown",
   "id": "9975d4e0-0645-4c36-8ff7-f67b83ddd4ae",
   "metadata": {},
   "source": [
    "<h1>Insight No. 6</h1>\n",
    "<h2>Serious accidents predominantly occurred on dry road surfaces, with a recorded total of 61,708 incidents.</h2>"
   ]
  },
  {
   "cell_type": "code",
   "execution_count": 31,
   "id": "c36d2349-1cc6-4cb4-8a18-a80a08c31402",
   "metadata": {},
   "outputs": [],
   "source": [
    "no_6 = accident[accident['Accident_Severity'] == 'Serious'] ['Road_Surface_Conditions'].value_counts()"
   ]
  },
  {
   "cell_type": "code",
   "execution_count": 32,
   "id": "fae58620-dd42-4f3d-b6fb-f284843711ae",
   "metadata": {},
   "outputs": [
    {
     "data": {
      "text/plain": [
       "Road_Surface_Conditions\n",
       "Dry                       61638\n",
       "Wet or damp               23785\n",
       "Frost or ice               2007\n",
       "Snow                        565\n",
       "Flood over 3cm. deep        152\n",
       "unknown road condition       70\n",
       "Name: count, dtype: int64"
      ]
     },
     "execution_count": 32,
     "metadata": {},
     "output_type": "execute_result"
    }
   ],
   "source": [
    "no_6"
   ]
  },
  {
   "cell_type": "markdown",
   "id": "e9445cde-b179-477b-a717-0395f77ff2af",
   "metadata": {},
   "source": [
    "<h1>Insight No. 7</h1>\n",
    "<h2>Each road type has the highest number of recorded accidents. However, \n",
    "in Dual Carriageways, there are 78,677 accidents reported under \"Fine, No High Winds\" weather conditions.</h2>"
   ]
  },
  {
   "cell_type": "code",
   "execution_count": 33,
   "id": "c88afd37-07ec-4ef0-8080-a78e8af910a9",
   "metadata": {},
   "outputs": [],
   "source": [
    "no_7 = accident.groupby(['Road_Type', 'Weather_Conditions']).size()"
   ]
  },
  {
   "cell_type": "code",
   "execution_count": 34,
   "id": "e9cfe496-4062-441d-983f-973578847e3d",
   "metadata": {},
   "outputs": [
    {
     "data": {
      "text/plain": [
       "Road_Type           Weather_Conditions   \n",
       "Dual carriageway    Fine + high winds          1519\n",
       "                    Fine no high winds        76916\n",
       "                    Fog or mist                 682\n",
       "                    Other                      2264\n",
       "                    Raining + high winds       2033\n",
       "                    Raining no high winds     13044\n",
       "                    Snowing + high winds        185\n",
       "                    Snowing no high winds      1020\n",
       "                    unaccounted                1761\n",
       "One way street      Fine + high winds           158\n",
       "                    Fine no high winds        11057\n",
       "                    Fog or mist                  29\n",
       "                    Other                       309\n",
       "                    Raining + high winds        153\n",
       "                    Raining no high winds      1429\n",
       "                    Snowing + high winds         14\n",
       "                    Snowing no high winds        78\n",
       "                    unaccounted                 332\n",
       "Roundabout          Fine + high winds           540\n",
       "                    Fine no high winds        34667\n",
       "                    Fog or mist                 222\n",
       "                    Other                      1109\n",
       "                    Raining + high winds        563\n",
       "                    Raining no high winds      5347\n",
       "                    Snowing + high winds         30\n",
       "                    Snowing no high winds       290\n",
       "                    unaccounted                1224\n",
       "Single carriageway  Fine + high winds          6178\n",
       "                    Fine no high winds       389830\n",
       "                    Fog or mist                2541\n",
       "                    Other                     13156\n",
       "                    Raining + high winds       6703\n",
       "                    Raining no high winds     58581\n",
       "                    Snowing + high winds        642\n",
       "                    Snowing no high winds      4751\n",
       "                    unaccounted                9761\n",
       "Slip road           Fine + high winds           109\n",
       "                    Fine no high winds         5520\n",
       "                    Fog or mist                  33\n",
       "                    Other                       180\n",
       "                    Raining + high winds        107\n",
       "                    Raining no high winds       865\n",
       "                    Snowing + high winds         10\n",
       "                    Snowing no high winds        69\n",
       "                    unaccounted                 148\n",
       "unaccounted         Fine + high winds            50\n",
       "                    Fine no high winds         2895\n",
       "                    Fog or mist                  21\n",
       "                    Other                       132\n",
       "                    Raining + high winds         56\n",
       "                    Raining no high winds       430\n",
       "                    Snowing + high winds          4\n",
       "                    Snowing no high winds        30\n",
       "                    unaccounted                 902\n",
       "dtype: int64"
      ]
     },
     "execution_count": 34,
     "metadata": {},
     "output_type": "execute_result"
    }
   ],
   "source": [
    "no_7"
   ]
  },
  {
   "cell_type": "markdown",
   "id": "5a3267cf-56ce-45a8-bb32-4dc9525091fe",
   "metadata": {},
   "source": [
    "<h1>Insight No. 8</h1>\n",
    "<h2>The highest number of accidents (356,085 cases) occurred in daylight on dry roads, suggesting that high traffic volume contributes more to accidents than poor visibility or hazardous conditions.</h2>"
   ]
  },
  {
   "cell_type": "code",
   "execution_count": 35,
   "id": "4bd83f18-ff74-478b-8ff3-c71d31c7879d",
   "metadata": {},
   "outputs": [],
   "source": [
    "no_8 = accident.groupby(['Light_Conditions', 'Road_Surface_Conditions']).size()"
   ]
  },
  {
   "cell_type": "code",
   "execution_count": 36,
   "id": "4baa3a19-32e1-4e56-9dfd-85bb3c64fe17",
   "metadata": {},
   "outputs": [
    {
     "data": {
      "text/plain": [
       "Light_Conditions             Road_Surface_Conditions\n",
       "Darkness - lighting unknown  Dry                          4396\n",
       "                             Flood over 3cm. deep           15\n",
       "                             Frost or ice                  249\n",
       "                             Snow                          105\n",
       "                             Wet or damp                  1675\n",
       "                             unknown road condition         44\n",
       "Darkness - lights lit        Dry                         70368\n",
       "                             Flood over 3cm. deep          160\n",
       "                             Frost or ice                 4621\n",
       "                             Snow                         1587\n",
       "                             Wet or damp                 52463\n",
       "                             unknown road condition        136\n",
       "Darkness - lights unlit      Dry                          1353\n",
       "                             Flood over 3cm. deep            4\n",
       "                             Frost or ice                  130\n",
       "                             Snow                           26\n",
       "                             Wet or damp                  1027\n",
       "                             unknown road condition          3\n",
       "Darkness - no lighting       Dry                         15619\n",
       "                             Flood over 3cm. deep          265\n",
       "                             Frost or ice                 3345\n",
       "                             Snow                          757\n",
       "                             Wet or damp                 17424\n",
       "                             unknown road condition         27\n",
       "Daylight                     Dry                        356085\n",
       "                             Flood over 3cm. deep          573\n",
       "                             Frost or ice                10172\n",
       "                             Snow                         3415\n",
       "                             Wet or damp                114119\n",
       "                             unknown road condition        516\n",
       "dtype: int64"
      ]
     },
     "execution_count": 36,
     "metadata": {},
     "output_type": "execute_result"
    }
   ],
   "source": [
    "no_8"
   ]
  },
  {
   "cell_type": "markdown",
   "id": "5f2e4097-3966-4a1c-90fb-29b26dcd65e4",
   "metadata": {},
   "source": [
    "<h1>Insight No. 9</h1>\n",
    "<h2>The lowest number of accidents occurred in unallocated areas, with only 10 slight, 1 serious, and 0 fatal cases, suggesting minimal or unclassified traffic activity in these locations.</h2>"
   ]
  },
  {
   "cell_type": "code",
   "execution_count": 37,
   "id": "ba96721a-1207-488d-99d1-16b06a5b6ae3",
   "metadata": {},
   "outputs": [],
   "source": [
    "no_9 = accident.groupby('Urban_or_Rural_Area')['Accident_Severity'].value_counts()"
   ]
  },
  {
   "cell_type": "code",
   "execution_count": 38,
   "id": "6544f603-936d-4ac6-9586-719c12465ef9",
   "metadata": {},
   "outputs": [
    {
     "data": {
      "text/plain": [
       "Urban_or_Rural_Area  Accident_Severity\n",
       "Rural                Slight               196077\n",
       "                     Serious               37312\n",
       "                     Fatal                  5601\n",
       "Unallocated          Slight                   10\n",
       "                     Serious                   1\n",
       "                     Fatal                     0\n",
       "Urban                Slight               367714\n",
       "                     Serious               50904\n",
       "                     Fatal                  3060\n",
       "Name: count, dtype: int64"
      ]
     },
     "execution_count": 38,
     "metadata": {},
     "output_type": "execute_result"
    }
   ],
   "source": [
    "no_9"
   ]
  },
  {
   "cell_type": "markdown",
   "id": "1cb7cdcc-ba01-4b41-bff1-d53e9b12bb71",
   "metadata": {},
   "source": [
    "<h1>Insight No. 10</h1>\n",
    "<h2>The mid-range accident count occurred on frost or ice-covered roads, with 193 fatal, 2,007 serious, and 16,317 slight accidents, indicating that icy conditions pose a significant risk but are less common than dry or wet road accidents. </h2>"
   ]
  },
  {
   "cell_type": "code",
   "execution_count": 39,
   "id": "dfc59d20-ab60-48b5-a7d2-dfc884d96d9a",
   "metadata": {},
   "outputs": [],
   "source": [
    "no_10 = accident.groupby(['Accident_Severity', 'Road_Surface_Conditions']).size()"
   ]
  },
  {
   "cell_type": "code",
   "execution_count": 40,
   "id": "deaae350-4760-4199-9e29-9174d461e9f0",
   "metadata": {},
   "outputs": [
    {
     "data": {
      "text/plain": [
       "Accident_Severity  Road_Surface_Conditions\n",
       "Fatal              Dry                          5788\n",
       "                   Flood over 3cm. deep           23\n",
       "                   Frost or ice                  193\n",
       "                   Snow                           35\n",
       "                   Wet or damp                  2620\n",
       "                   unknown road condition          2\n",
       "Serious            Dry                         61638\n",
       "                   Flood over 3cm. deep          152\n",
       "                   Frost or ice                 2007\n",
       "                   Snow                          565\n",
       "                   Wet or damp                 23785\n",
       "                   unknown road condition         70\n",
       "Slight             Dry                        380395\n",
       "                   Flood over 3cm. deep          842\n",
       "                   Frost or ice                16317\n",
       "                   Snow                         5290\n",
       "                   Wet or damp                160303\n",
       "                   unknown road condition        654\n",
       "dtype: int64"
      ]
     },
     "execution_count": 40,
     "metadata": {},
     "output_type": "execute_result"
    }
   ],
   "source": [
    "no_10"
   ]
  },
  {
   "cell_type": "markdown",
   "id": "afc15ea8-cb57-4f42-a291-94ad4ebff969",
   "metadata": {},
   "source": [
    "<h1>Insight No. 11</h1>\n",
    "<h2>The mid-range road type in terms of accident frequency is roundabouts, with 15,545 accidents in rural areas and 28,446 in urban areas, indicating moderate accident occurrence compared to single and dual carriageways but still posing risks due to merging traffic and navigation challenges. </h2>"
   ]
  },
  {
   "cell_type": "code",
   "execution_count": 41,
   "id": "445bce9d-78b2-490b-8407-275848a0f3f3",
   "metadata": {},
   "outputs": [],
   "source": [
    "no_11 = accident.groupby(['Road_Type', 'Urban_or_Rural_Area']).size()"
   ]
  },
  {
   "cell_type": "code",
   "execution_count": 42,
   "id": "183b5928-2768-4616-b38e-047ac9eafdff",
   "metadata": {},
   "outputs": [
    {
     "data": {
      "text/plain": [
       "Road_Type           Urban_or_Rural_Area\n",
       "Dual carriageway    Rural                   48715\n",
       "                    Unallocated                 1\n",
       "                    Urban                   50708\n",
       "One way street      Rural                    1193\n",
       "                    Unallocated                 0\n",
       "                    Urban                   12366\n",
       "Roundabout          Rural                   15545\n",
       "                    Unallocated                 1\n",
       "                    Urban                   28446\n",
       "Single carriageway  Rural                  168010\n",
       "                    Unallocated                 9\n",
       "                    Urban                  324124\n",
       "Slip road           Rural                    4294\n",
       "                    Unallocated                 0\n",
       "                    Urban                    2747\n",
       "unaccounted         Rural                    1233\n",
       "                    Unallocated                 0\n",
       "                    Urban                    3287\n",
       "dtype: int64"
      ]
     },
     "execution_count": 42,
     "metadata": {},
     "output_type": "execute_result"
    }
   ],
   "source": [
    "no_11"
   ]
  },
  {
   "cell_type": "markdown",
   "id": "ef0819c8-1d76-495c-821c-5d53de533105",
   "metadata": {},
   "source": [
    "<h1>Insight No. 12</h1>\n",
    "<h2>Most frost/ice accidents occurred on single carriageways (14,918 cases), while the fewest were on unaccounted roads (85 cases), showing higher risk on major roads.</h2>"
   ]
  },
  {
   "cell_type": "code",
   "execution_count": 43,
   "id": "8d39d809-3a95-4b8e-bf0e-93a400784754",
   "metadata": {},
   "outputs": [],
   "source": [
    "no_12 = accident[accident['Road_Surface_Conditions'] == 'Frost or ice'] ['Road_Type'].value_counts()"
   ]
  },
  {
   "cell_type": "code",
   "execution_count": 44,
   "id": "e3c8afcd-3214-42a3-9e25-cd42cc80e0b8",
   "metadata": {},
   "outputs": [
    {
     "data": {
      "text/plain": [
       "Road_Type\n",
       "Single carriageway    14918\n",
       "Dual carriageway       2408\n",
       "Roundabout              745\n",
       "One way street          183\n",
       "Slip road               178\n",
       "unaccounted              85\n",
       "Name: count, dtype: int64"
      ]
     },
     "execution_count": 44,
     "metadata": {},
     "output_type": "execute_result"
    }
   ],
   "source": [
    "no_12"
   ]
  },
  {
   "cell_type": "markdown",
   "id": "38556850-09ee-4b83-8e7e-d83636006e69",
   "metadata": {},
   "source": [
    "<h1>Insight No. 13</h1>\n",
    "<h2>Cars had the most accidents (337,311 cases), while ridden horses and missing data had the fewest (3 cases each), highlighting cars' high exposure and minimal incidents for rare vehicle types. </h2>"
   ]
  },
  {
   "cell_type": "code",
   "execution_count": 45,
   "id": "b7dc5e21-a242-4fd2-b2b5-3ba1fc175f95",
   "metadata": {},
   "outputs": [],
   "source": [
    "no_13 = accident[accident['Road_Surface_Conditions'] == 'Dry'] ['Vehicle_Type'].value_counts()"
   ]
  },
  {
   "cell_type": "code",
   "execution_count": 46,
   "id": "cd55d2fa-6cf8-4aef-a109-718cc7ec2feb",
   "metadata": {},
   "outputs": [
    {
     "data": {
      "text/plain": [
       "Vehicle_Type\n",
       "Car                                      337311\n",
       "Van / Goods 3.5 tonnes mgw or under       23082\n",
       "Bus or coach (17 or more pass seats)      17604\n",
       "Motorcycle over 500cc                     17438\n",
       "Goods 7.5 tonnes mgw and over             11690\n",
       "Motorcycle 125cc and under                10485\n",
       "Taxi/Private hire car                      9014\n",
       "Motorcycle over 125cc and up to 500cc      5225\n",
       "Motorcycle 50cc and under                  5189\n",
       "Goods over 3.5t. and under 7.5t            4136\n",
       "Other vehicle                              3845\n",
       "Minibus (8 - 16 passenger seats)           1355\n",
       "Agricultural vehicle                       1303\n",
       "Pedal cycle                                 138\n",
       "Data missing or out of range                  3\n",
       "Ridden horse                                  3\n",
       "Name: count, dtype: int64"
      ]
     },
     "execution_count": 46,
     "metadata": {},
     "output_type": "execute_result"
    }
   ],
   "source": [
    "no_13"
   ]
  },
  {
   "cell_type": "markdown",
   "id": "200aa549-f4bc-4e96-aeab-4d37aead2dc0",
   "metadata": {},
   "source": [
    "<h1>Insight No. 14</h1>\n",
    "<h2>In 2021, 76% of accidents (125,348 out of 163,554) occurred on dry roads, indicating that high traffic volume and driver behavior contribute more to accidents than adverse weather conditions.  </h2>"
   ]
  },
  {
   "cell_type": "code",
   "execution_count": 47,
   "id": "85155834-7b44-477d-9955-4117328d5eaa",
   "metadata": {},
   "outputs": [
    {
     "data": {
      "text/html": [
       "<div>\n",
       "<style scoped>\n",
       "    .dataframe tbody tr th:only-of-type {\n",
       "        vertical-align: middle;\n",
       "    }\n",
       "\n",
       "    .dataframe tbody tr th {\n",
       "        vertical-align: top;\n",
       "    }\n",
       "\n",
       "    .dataframe thead th {\n",
       "        text-align: right;\n",
       "    }\n",
       "</style>\n",
       "<table border=\"1\" class=\"dataframe\">\n",
       "  <thead>\n",
       "    <tr style=\"text-align: right;\">\n",
       "      <th></th>\n",
       "      <th>Year</th>\n",
       "      <th>count</th>\n",
       "    </tr>\n",
       "  </thead>\n",
       "  <tbody>\n",
       "    <tr>\n",
       "      <th>0</th>\n",
       "      <td>2019</td>\n",
       "      <td>182115</td>\n",
       "    </tr>\n",
       "    <tr>\n",
       "      <th>1</th>\n",
       "      <td>2020</td>\n",
       "      <td>170591</td>\n",
       "    </tr>\n",
       "    <tr>\n",
       "      <th>2</th>\n",
       "      <td>2021</td>\n",
       "      <td>163554</td>\n",
       "    </tr>\n",
       "    <tr>\n",
       "      <th>3</th>\n",
       "      <td>2022</td>\n",
       "      <td>144419</td>\n",
       "    </tr>\n",
       "  </tbody>\n",
       "</table>\n",
       "</div>"
      ],
      "text/plain": [
       "   Year   count\n",
       "0  2019  182115\n",
       "1  2020  170591\n",
       "2  2021  163554\n",
       "3  2022  144419"
      ]
     },
     "execution_count": 47,
     "metadata": {},
     "output_type": "execute_result"
    }
   ],
   "source": [
    "accident['Year'].value_counts().reset_index()"
   ]
  },
  {
   "cell_type": "code",
   "execution_count": 48,
   "id": "2fc99cdd-6575-42c0-85e4-7ef9bb6c1c36",
   "metadata": {},
   "outputs": [],
   "source": [
    "no_14 = accident[accident['Year'] == 2019]['Road_Surface_Conditions'].value_counts() "
   ]
  },
  {
   "cell_type": "code",
   "execution_count": 49,
   "id": "b35d8579-5646-411d-bc18-ec0777b0faeb",
   "metadata": {},
   "outputs": [
    {
     "data": {
      "text/plain": [
       "Road_Surface_Conditions\n",
       "Dry                       125348\n",
       "Wet or damp                53153\n",
       "Frost or ice                2569\n",
       "Snow                         534\n",
       "Flood over 3cm. deep         312\n",
       "unknown road condition       199\n",
       "Name: count, dtype: int64"
      ]
     },
     "execution_count": 49,
     "metadata": {},
     "output_type": "execute_result"
    }
   ],
   "source": [
    "no_14"
   ]
  },
  {
   "cell_type": "markdown",
   "id": "c7e8cb42-52bb-4578-8d3a-3959b2d8799b",
   "metadata": {},
   "source": [
    "<h1>Insight No. 15</h1>\n",
    "<h2>Saturday had the most accidents (107,178 cases), while Monday had the fewest (72,680 cases), suggesting higher accident rates on weekends, possibly due to increased travel and leisure activities.</h2>"
   ]
  },
  {
   "cell_type": "code",
   "execution_count": 50,
   "id": "d63e5403-affe-4a8c-bd8b-95b3236cdaa6",
   "metadata": {},
   "outputs": [],
   "source": [
    "no_15 = accident['Accident Date'].dt.day_name().value_counts()"
   ]
  },
  {
   "cell_type": "code",
   "execution_count": 51,
   "id": "9b68cbd1-a4c8-412d-90d9-a3708e110d21",
   "metadata": {},
   "outputs": [
    {
     "data": {
      "text/plain": [
       "Accident Date\n",
       "Saturday     107178\n",
       "Wednesday     99558\n",
       "Thursday      99511\n",
       "Friday        97900\n",
       "Tuesday       94550\n",
       "Sunday        89302\n",
       "Monday        72680\n",
       "Name: count, dtype: int64"
      ]
     },
     "execution_count": 51,
     "metadata": {},
     "output_type": "execute_result"
    }
   ],
   "source": [
    "no_15"
   ]
  },
  {
   "cell_type": "markdown",
   "id": "9f087154-2f52-4f77-9aa5-2e174ca12c36",
   "metadata": {},
   "source": [
    "<h1>Insight No. 16</h1>\n",
    "<h2>Under darkness - lights lit, Birmingham recorded the most accidents (9,819 cases), while Clackmannanshire had the fewest (69 cases), indicating higher accident risks in major urban areas.</h2>"
   ]
  },
  {
   "cell_type": "code",
   "execution_count": 52,
   "id": "71f66921-2cb4-4984-a400-1f68534f1134",
   "metadata": {},
   "outputs": [],
   "source": [
    "no_16 = accident[accident['Light_Conditions'] != 'Darkness - lights lit']['District Area'].value_counts()"
   ]
  },
  {
   "cell_type": "code",
   "execution_count": 53,
   "id": "6ee8b409-9d55-448e-b275-d6eb16e311ae",
   "metadata": {},
   "outputs": [
    {
     "data": {
      "text/plain": [
       "District Area\n",
       "Birmingham                   9819\n",
       "Leeds                        6906\n",
       "Manchester                   4842\n",
       "Bradford                     4724\n",
       "Sheffield                    4351\n",
       "                             ... \n",
       "Clackmannshire                138\n",
       "London Airport (Heathrow)     126\n",
       "Shetland Islands              123\n",
       "Orkney Islands                105\n",
       "Clackmannanshire               69\n",
       "Name: count, Length: 422, dtype: int64"
      ]
     },
     "execution_count": 53,
     "metadata": {},
     "output_type": "execute_result"
    }
   ],
   "source": [
    "no_16"
   ]
  },
  {
   "cell_type": "markdown",
   "id": "9264ebff-0199-402b-b6c0-088c66b7e833",
   "metadata": {},
   "source": [
    "<h1>Insight No. 17</h1>\n",
    "<h2>The highest number of accidents occurred in the year 2019, recording a total of 114,552 incidents, with the majority taking place in urban areas.</h2>"
   ]
  },
  {
   "cell_type": "code",
   "execution_count": 54,
   "id": "407c97a0-5ef8-4ce0-bc63-e2fb0326c77c",
   "metadata": {},
   "outputs": [
    {
     "data": {
      "image/png": "[encoded data removed]",
      "text/plain": [
       "<Figure size 640x480 with 1 Axes>"
      ]
     },
     "metadata": {},
     "output_type": "display_data"
    }
   ],
   "source": [
    "acc_month = accident['Year'].value_counts().sort_index()\n",
    "acc_month.plot(kind='bar')\n",
    "plt.title('Accident per Year')\n",
    "plt.xlabel('Year')\n",
    "plt.ylabel('Urban_or_Rural_Area')\n",
    "plt.show()"
   ]
  },
  {
   "cell_type": "code",
   "execution_count": 55,
   "id": "eac2a2e2-edc7-4198-85a1-0eb6e7ded823",
   "metadata": {},
   "outputs": [],
   "source": [
    "no_17 = accident.groupby(['Year', 'Urban_or_Rural_Area']).size().reset_index()"
   ]
  },
  {
   "cell_type": "code",
   "execution_count": 56,
   "id": "4e7c659b-0592-4cd6-b896-166b4db95f2a",
   "metadata": {},
   "outputs": [
    {
     "data": {
      "text/html": [
       "<div>\n",
       "<style scoped>\n",
       "    .dataframe tbody tr th:only-of-type {\n",
       "        vertical-align: middle;\n",
       "    }\n",
       "\n",
       "    .dataframe tbody tr th {\n",
       "        vertical-align: top;\n",
       "    }\n",
       "\n",
       "    .dataframe thead th {\n",
       "        text-align: right;\n",
       "    }\n",
       "</style>\n",
       "<table border=\"1\" class=\"dataframe\">\n",
       "  <thead>\n",
       "    <tr style=\"text-align: right;\">\n",
       "      <th></th>\n",
       "      <th>Year</th>\n",
       "      <th>Urban_or_Rural_Area</th>\n",
       "      <th>0</th>\n",
       "    </tr>\n",
       "  </thead>\n",
       "  <tbody>\n",
       "    <tr>\n",
       "      <th>0</th>\n",
       "      <td>2019</td>\n",
       "      <td>Rural</td>\n",
       "      <td>67558</td>\n",
       "    </tr>\n",
       "    <tr>\n",
       "      <th>1</th>\n",
       "      <td>2019</td>\n",
       "      <td>Unallocated</td>\n",
       "      <td>5</td>\n",
       "    </tr>\n",
       "    <tr>\n",
       "      <th>2</th>\n",
       "      <td>2019</td>\n",
       "      <td>Urban</td>\n",
       "      <td>114552</td>\n",
       "    </tr>\n",
       "    <tr>\n",
       "      <th>3</th>\n",
       "      <td>2020</td>\n",
       "      <td>Rural</td>\n",
       "      <td>61991</td>\n",
       "    </tr>\n",
       "    <tr>\n",
       "      <th>4</th>\n",
       "      <td>2020</td>\n",
       "      <td>Unallocated</td>\n",
       "      <td>6</td>\n",
       "    </tr>\n",
       "    <tr>\n",
       "      <th>5</th>\n",
       "      <td>2020</td>\n",
       "      <td>Urban</td>\n",
       "      <td>108594</td>\n",
       "    </tr>\n",
       "    <tr>\n",
       "      <th>6</th>\n",
       "      <td>2021</td>\n",
       "      <td>Rural</td>\n",
       "      <td>59016</td>\n",
       "    </tr>\n",
       "    <tr>\n",
       "      <th>7</th>\n",
       "      <td>2021</td>\n",
       "      <td>Unallocated</td>\n",
       "      <td>0</td>\n",
       "    </tr>\n",
       "    <tr>\n",
       "      <th>8</th>\n",
       "      <td>2021</td>\n",
       "      <td>Urban</td>\n",
       "      <td>104538</td>\n",
       "    </tr>\n",
       "    <tr>\n",
       "      <th>9</th>\n",
       "      <td>2022</td>\n",
       "      <td>Rural</td>\n",
       "      <td>50425</td>\n",
       "    </tr>\n",
       "    <tr>\n",
       "      <th>10</th>\n",
       "      <td>2022</td>\n",
       "      <td>Unallocated</td>\n",
       "      <td>0</td>\n",
       "    </tr>\n",
       "    <tr>\n",
       "      <th>11</th>\n",
       "      <td>2022</td>\n",
       "      <td>Urban</td>\n",
       "      <td>93994</td>\n",
       "    </tr>\n",
       "  </tbody>\n",
       "</table>\n",
       "</div>"
      ],
      "text/plain": [
       "    Year Urban_or_Rural_Area       0\n",
       "0   2019               Rural   67558\n",
       "1   2019         Unallocated       5\n",
       "2   2019               Urban  114552\n",
       "3   2020               Rural   61991\n",
       "4   2020         Unallocated       6\n",
       "5   2020               Urban  108594\n",
       "6   2021               Rural   59016\n",
       "7   2021         Unallocated       0\n",
       "8   2021               Urban  104538\n",
       "9   2022               Rural   50425\n",
       "10  2022         Unallocated       0\n",
       "11  2022               Urban   93994"
      ]
     },
     "execution_count": 56,
     "metadata": {},
     "output_type": "execute_result"
    }
   ],
   "source": [
    "no_17"
   ]
  },
  {
   "cell_type": "markdown",
   "id": "f9cb05c1-00a7-41ab-ab8b-3f07021d963e",
   "metadata": {},
   "source": [
    "<h1>Insight No. 18</h1>\n",
    "<h2>In 2022, 46% of serious accidents (66,461 out of 144,419) involved cars, making them the most affected vehicle type in severe crashes. </h2>"
   ]
  },
  {
   "cell_type": "code",
   "execution_count": 57,
   "id": "cd135e1f-f9db-4e5a-a616-3f45a3845b29",
   "metadata": {},
   "outputs": [
    {
     "data": {
      "text/html": [
       "<div>\n",
       "<style scoped>\n",
       "    .dataframe tbody tr th:only-of-type {\n",
       "        vertical-align: middle;\n",
       "    }\n",
       "\n",
       "    .dataframe tbody tr th {\n",
       "        vertical-align: top;\n",
       "    }\n",
       "\n",
       "    .dataframe thead th {\n",
       "        text-align: right;\n",
       "    }\n",
       "</style>\n",
       "<table border=\"1\" class=\"dataframe\">\n",
       "  <thead>\n",
       "    <tr style=\"text-align: right;\">\n",
       "      <th></th>\n",
       "      <th>Year</th>\n",
       "      <th>count</th>\n",
       "    </tr>\n",
       "  </thead>\n",
       "  <tbody>\n",
       "    <tr>\n",
       "      <th>0</th>\n",
       "      <td>2019</td>\n",
       "      <td>182115</td>\n",
       "    </tr>\n",
       "    <tr>\n",
       "      <th>1</th>\n",
       "      <td>2020</td>\n",
       "      <td>170591</td>\n",
       "    </tr>\n",
       "    <tr>\n",
       "      <th>2</th>\n",
       "      <td>2021</td>\n",
       "      <td>163554</td>\n",
       "    </tr>\n",
       "    <tr>\n",
       "      <th>3</th>\n",
       "      <td>2022</td>\n",
       "      <td>144419</td>\n",
       "    </tr>\n",
       "  </tbody>\n",
       "</table>\n",
       "</div>"
      ],
      "text/plain": [
       "   Year   count\n",
       "0  2019  182115\n",
       "1  2020  170591\n",
       "2  2021  163554\n",
       "3  2022  144419"
      ]
     },
     "execution_count": 57,
     "metadata": {},
     "output_type": "execute_result"
    }
   ],
   "source": [
    "accident['Year'].value_counts().reset_index()"
   ]
  },
  {
   "cell_type": "code",
   "execution_count": 58,
   "id": "b81f910c-5761-4285-bb79-06ae05ad7e8d",
   "metadata": {},
   "outputs": [],
   "source": [
    "no_18 = accident[accident['Accident_Severity'] == 'Serious']['Vehicle_Type'].value_counts()"
   ]
  },
  {
   "cell_type": "code",
   "execution_count": 59,
   "id": "52669fd9-726c-4358-b304-1b85aaa064b9",
   "metadata": {},
   "outputs": [
    {
     "data": {
      "text/plain": [
       "Vehicle_Type\n",
       "Car                                      66461\n",
       "Van / Goods 3.5 tonnes mgw or under       4554\n",
       "Motorcycle over 500cc                     3457\n",
       "Bus or coach (17 or more pass seats)      3373\n",
       "Goods 7.5 tonnes mgw and over             2321\n",
       "Motorcycle 125cc and under                2031\n",
       "Taxi/Private hire car                     1771\n",
       "Motorcycle 50cc and under                 1014\n",
       "Motorcycle over 125cc and up to 500cc     1014\n",
       "Goods over 3.5t. and under 7.5t            857\n",
       "Other vehicle                              767\n",
       "Agricultural vehicle                       282\n",
       "Minibus (8 - 16 passenger seats)           276\n",
       "Pedal cycle                                 39\n",
       "Data missing or out of range                 0\n",
       "Ridden horse                                 0\n",
       "Name: count, dtype: int64"
      ]
     },
     "execution_count": 59,
     "metadata": {},
     "output_type": "execute_result"
    }
   ],
   "source": [
    "no_18"
   ]
  },
  {
   "cell_type": "markdown",
   "id": "9b8fd3e2-418f-4412-9fa0-feed72925d37",
   "metadata": {},
   "source": [
    "<h1>Insight No. 19</h1>\n",
    "<h2>The Single Carriageway road type recorded the highest number of accidents, reaching 672 incidents, particularly under conditions of floodwaters exceeding 3cm in depth.</h2>"
   ]
  },
  {
   "cell_type": "code",
   "execution_count": 64,
   "id": "0162029e-4de9-4fad-bef1-67db436343db",
   "metadata": {},
   "outputs": [],
   "source": [
    "no_19 = accident[accident['Road_Surface_Conditions'] == 'Flood over 3cm. deep'] ['Road_Type'].value_counts()"
   ]
  },
  {
   "cell_type": "code",
   "execution_count": 65,
   "id": "533969e3-4f75-40d4-8e0c-cfcc7b8cf79c",
   "metadata": {},
   "outputs": [
    {
     "data": {
      "text/plain": [
       "Road_Type\n",
       "Single carriageway    672\n",
       "Dual carriageway      302\n",
       "Roundabout             22\n",
       "Slip road               9\n",
       "unaccounted             7\n",
       "One way street          5\n",
       "Name: count, dtype: int64"
      ]
     },
     "execution_count": 65,
     "metadata": {},
     "output_type": "execute_result"
    }
   ],
   "source": [
    "no_19"
   ]
  },
  {
   "cell_type": "code",
   "execution_count": null,
   "id": "a9f7688b-73f4-4ac6-bfde-03110527c787",
   "metadata": {},
   "outputs": [],
   "source": []
  },
  {
   "cell_type": "code",
   "execution_count": null,
   "id": "0742f5ef-7eb0-4202-887a-56dff61cf35c",
   "metadata": {},
   "outputs": [],
   "source": []
  },
  {
   "cell_type": "markdown",
   "id": "e4b02ee4-e1d2-4926-9f98-af9b4e295b64",
   "metadata": {},
   "source": [
    "<h1>Insight No. 20</h1>\n",
    "<h2>In Urban Areas, the weather condition classified as \"Other\" recorded a total of 9,813 accidents, making it a significant contributing factor.s</h2>"
   ]
  },
  {
   "cell_type": "code",
   "execution_count": 62,
   "id": "5cb8b7d5-d756-4e0c-bacd-0778a91c6efd",
   "metadata": {},
   "outputs": [],
   "source": [
    "no_20 = accident[accident['Urban_or_Rural_Area'] == 'Urban']['Weather_Conditions'].value_counts()"
   ]
  },
  {
   "cell_type": "code",
   "execution_count": 63,
   "id": "29ec0c93-4e3a-4a4f-b606-1baffa06c7e3",
   "metadata": {},
   "outputs": [
    {
     "data": {
      "text/plain": [
       "Weather_Conditions\n",
       "Fine no high winds       339088\n",
       "Raining no high winds     48518\n",
       "unaccounted               10162\n",
       "Other                      9813\n",
       "Raining + high winds       4892\n",
       "Fine + high winds          4560\n",
       "Snowing no high winds      3188\n",
       "Fog or mist                1143\n",
       "Snowing + high winds        314\n",
       "Name: count, dtype: int64"
      ]
     },
     "execution_count": 63,
     "metadata": {},
     "output_type": "execute_result"
    }
   ],
   "source": [
    "no_20"
   ]
  },
  {
   "cell_type": "code",
   "execution_count": null,
   "id": "06e99b6d-ca75-4137-800b-3a9472015937",
   "metadata": {},
   "outputs": [],
   "source": []
  }
 ],
 "metadata": {
  "kernelspec": {
   "display_name": "Python 3 (ipykernel)",
   "language": "python",
   "name": "python3"
  },
  "language_info": {
   "codemirror_mode": {
    "name": "ipython",
    "version": 3
   },
   "file_extension": ".py",
   "mimetype": "text/x-python",
   "name": "python",
   "nbconvert_exporter": "python",
   "pygments_lexer": "ipython3",
   "version": "3.13.2"
  }
 },
 "nbformat": 4,
 "nbformat_minor": 5
}
